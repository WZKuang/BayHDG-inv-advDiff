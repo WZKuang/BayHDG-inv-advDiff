{
 "cells": [
  {
   "cell_type": "markdown",
   "metadata": {},
   "source": [
    "# HDG scheme for advection-diffusion equation with upwind for advection\n",
    "### Assume in the scenario of spherical Zinc particle deposition"
   ]
  },
  {
   "cell_type": "code",
   "execution_count": 33,
   "metadata": {},
   "outputs": [],
   "source": [
    "#import netgen.gui # disable netgen gui in favor of webgui\n",
    "from ngsolve import *\n",
    "from netgen.geom2d import SplineGeometry\n",
    "import numpy as np\n",
    "import math\n",
    "import time as timeit\n",
    "import matplotlib.pyplot as plt\n",
    "\n",
    "# domain geometry\n",
    "geo = SplineGeometry()\n",
    "length = 50\n",
    "height = 20\n",
    "geo.AddRectangle( (-3, 0), (length, height), bcs = [\"bottom\",\"right\",\"top\",\"left\"])\n",
    "\n",
    "def ermarkHDGSolver(h0=0.2, order = 2, wx=1, wy=-0.0027, xs=0, ys=1, eps=0.2, Q=1, v_depost=0.005,  vis=True):\n",
    "    if vis:\n",
    "        from ngsolve.webgui import Draw\n",
    "    t0 = timeit.time()\n",
    "    mesh =  Mesh(geo.GenerateMesh(maxh=h0))\n",
    "    print(\"ElAPSED %.2e MESH\" %(timeit.time()-t0))\n",
    "\n",
    "    # local space V, global space M for velocity\n",
    "    V = L2(mesh, order=order)\n",
    "    # homogeneous DBC on left\n",
    "    # reasonable considering advection direction\n",
    "    M = FacetFESpace(mesh, order=order, dirichlet=\"left|top\")\n",
    "    # compound finite element space\n",
    "    fes = FESpace([V,M]) \n",
    "    gfu = GridFunction(fes)  # solution \n",
    "    \n",
    "    (u,uhat), (v,vhat) = fes.TnT()  # symbolic object, test and trial ProxyFunctions\n",
    "    \n",
    "    # linear and bilinear forms to be specified\n",
    "    a = BilinearForm(fes, condense=True)\n",
    "    f1 = LinearForm(fes)\n",
    "    # Dirac Delta function approximated \n",
    "    # by multivariable Gaussian\n",
    "    f1 += v(xs,ys)\n",
    "    \n",
    "    \n",
    "    ######## diffusion operator\n",
    "    h = specialcf.mesh_size        # the local mesh size coefficient function\n",
    "    n = specialcf.normal(mesh.dim) # the unit normal direction on edges\n",
    "    alpha = 4 #stabilization coef\n",
    "    \n",
    "    jmp_u = (u-uhat)\n",
    "    jmp_v = (v-vhat)\n",
    "        \n",
    "    # volume integration\n",
    "    a += eps*grad(u)*grad(v)*dx\n",
    "    # ATTENTION: element-boundary integration\n",
    "    a += eps*(-grad(u)*n*jmp_v-grad(v)*n*jmp_u+alpha*order**2/h*jmp_u*jmp_v)*dx(element_boundary=True)\n",
    "    # TODO:: ROBINE BC for bottom.\n",
    "    # set settling speed, sign different from taht of wind in y \n",
    "    v_set = -wy\n",
    "    a += (v_depost-v_set)*uhat.Trace()*vhat.Trace()*dx(element_boundary=True, definedon=mesh.Boundaries(\"bottom\"))\n",
    "            \n",
    "    ######## convection operator\n",
    "    # velocity field\n",
    "    w = CoefficientFunction((wx,wy))\n",
    "\n",
    "    uhatup = IfPos(w*n, u, uhat) # upwinding flux\n",
    "    conv = -u*w*grad(v)\n",
    "    # element-boundary term \n",
    "    # ATTENTION:: a simple HACK to deactivate vhat on Neumann bdry\n",
    "    neuflag = GridFunction(FacetFESpace(mesh))\n",
    "    neuflag.Set(1, definedon=mesh.Boundaries(\"right|bottom\"))\n",
    "    jmp_v0 = v-vhat*(1-neuflag) \n",
    "    conv_BND =  uhatup*w*n*jmp_v0\n",
    "\n",
    "    # convection integration\n",
    "    a += conv*dx + conv_BND*dx(element_boundary=True)\n",
    "\n",
    "    with TaskManager():\n",
    "        t0=timeit.time()\n",
    "        a.Assemble()\n",
    "        f1.Assemble() \n",
    "        rhs = gfu.vec.CreateVector()\n",
    "        # source term is Q*diracDelta\n",
    "        rhs.data = Q*f1.vec\n",
    "        print(\"ElAPSED %.2e ASSEMBLE\" %(timeit.time()-t0))\n",
    "\n",
    "        # add Dirichlet BC -- no need here\n",
    "        #f.vec.data -= a.mat * gfu.vec\n",
    "        t0=timeit.time()\n",
    "        rhs.data += a.harmonic_extension_trans * rhs\n",
    "        inv = a.mat.Inverse(fes.FreeDofs(True), \"umfpack\")\n",
    "        gfu.vec.data += inv * rhs\n",
    "        gfu.vec.data += a.harmonic_extension * gfu.vec\n",
    "        gfu.vec.data += a.inner_solve * rhs\n",
    "        print(\"ElAPSED %.2e SOLVE\" %(timeit.time()-t0))\n",
    "        if vis:\n",
    "            Draw(gfu.components[0], mesh, \"uh\", min=0, max=1)#, deformation=True)\n",
    "    \n",
    "    return mesh, fes, a, rhs, gfu\n"
   ]
  },
  {
   "cell_type": "code",
   "execution_count": 34,
   "metadata": {},
   "outputs": [
    {
     "name": "stdout",
     "output_type": "stream",
     "text": [
      "ElAPSED 2.35e+00 MESH\n",
      "ElAPSED 2.15e-01 ASSEMBLE\n",
      "ElAPSED 1.33e+00 SOLVE\n"
     ]
    },
    {
     "data": {
      "application/vnd.jupyter.widget-view+json": {
       "model_id": "fd81ae770d68499ead61127c285261d6",
       "version_major": 2,
       "version_minor": 0
      },
      "text/plain": [
       "NGSWebGuiWidget(value={'ngsolve_version': '6.2.2101-155-g55dd37409', 'mesh_dim': 2, 'order2d': 2, 'order3d': 2…"
      ]
     },
     "metadata": {},
     "output_type": "display_data"
    }
   ],
   "source": [
    "# Settling (vertical advection velocity) and\n",
    "# deposition (Robin BC) condition\n",
    "v_set = 0.0027 #m/s, absolute value, by Stokes law\n",
    "v_dep = 0.005 #m/s, absolute value\n",
    "H_src = 2 #m, height of source\n",
    "mesh, _, _, _, gfu = ermarkHDGSolver(h0=0.2, order=2, xs=0, ys=H_src, \n",
    "                                     wx=1, wy=-v_set, v_depost=v_dep, eps=0.4, Q=2)"
   ]
  },
  {
   "cell_type": "code",
   "execution_count": 35,
   "metadata": {},
   "outputs": [
    {
     "data": {
      "text/plain": [
       "Text(0, 0.5, 'concentration')"
      ]
     },
     "execution_count": 35,
     "metadata": {},
     "output_type": "execute_result"
    },
    {
     "data": {
      "image/png": "[encoded data removed]",
      "text/plain": [
       "<Figure size 720x360 with 1 Axes>"
      ]
     },
     "metadata": {
      "needs_background": "light"
     },
     "output_type": "display_data"
    }
   ],
   "source": [
    "x = [0.01*i for i in range(length*100)]\n",
    "u_numerical = [gfu.components[0](mesh(p, 0.1)) for p in x]\n",
    "\n",
    "fig, ax = plt.subplots(figsize=(10,5))\n",
    "ax.set_title(\"Concentration at Ground Level\")\n",
    "ax.plot(x, u_numerical, linewidth=1.5, label='HDG')\n",
    "ax.set_xlim([0,length])\n",
    "ax.set_xlabel(\"x coodinate\")\n",
    "ax.set_ylabel(\"concentration\")"
   ]
  },
  {
   "cell_type": "markdown",
   "metadata": {},
   "source": [
    "### Concentration flux at z=0\n",
    "As we can observe from the following figure, the gradient in z direction of pollutent concentration be will negative now because of depostion."
   ]
  },
  {
   "cell_type": "code",
   "execution_count": 38,
   "metadata": {},
   "outputs": [
    {
     "data": {
      "text/plain": [
       "Text(0, 0.5, 'concentration')"
      ]
     },
     "execution_count": 38,
     "metadata": {},
     "output_type": "execute_result"
    },
    {
     "data": {
      "image/png": "[encoded data removed]",
      "text/plain": [
       "<Figure size 720x360 with 1 Axes>"
      ]
     },
     "metadata": {
      "needs_background": "light"
     },
     "output_type": "display_data"
    }
   ],
   "source": [
    "x = 5\n",
    "y = [0.01*i for i in range(height*100)]\n",
    "u_numerical = [gfu.components[0](mesh(x, p)) for p in y]\n",
    "\n",
    "fig, ax = plt.subplots(figsize=(10,5))\n",
    "ax.set_title(\"Concentration at x=%.1e m\"%(x))\n",
    "ax.plot(y, u_numerical, linewidth=1.5, label='HDG')\n",
    "ax.set_xlim([0,5])\n",
    "#ax.set_ylim([0.3,0.5])\n",
    "ax.set_xlabel(\"y coordinate\")\n",
    "ax.set_ylabel(\"concentration\")"
   ]
  },
  {
   "cell_type": "markdown",
   "metadata": {},
   "source": [
    "## Receptor array and ground truth data"
   ]
  },
  {
   "cell_type": "code",
   "execution_count": null,
   "metadata": {},
   "outputs": [],
   "source": []
  }
 ],
 "metadata": {
  "kernelspec": {
   "display_name": "Python 3",
   "language": "python",
   "name": "python3"
  },
  "language_info": {
   "codemirror_mode": {
    "name": "ipython",
    "version": 3
   },
   "file_extension": ".py",
   "mimetype": "text/x-python",
   "name": "python",
   "nbconvert_exporter": "python",
   "pygments_lexer": "ipython3",
   "version": "3.6.9"
  }
 },
 "nbformat": 4,
 "nbformat_minor": 2
}
