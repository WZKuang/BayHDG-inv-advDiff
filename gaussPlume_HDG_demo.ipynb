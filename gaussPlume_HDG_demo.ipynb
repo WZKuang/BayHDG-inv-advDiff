{
 "cells": [
  {
   "cell_type": "markdown",
   "metadata": {},
   "source": [
    "## HDG scheme for advection-diffusion equation with upwind for advection\n",
    "Contrast with Gaussian-Plume Model"
   ]
  },
  {
   "cell_type": "code",
   "execution_count": 1,
   "metadata": {},
   "outputs": [],
   "source": [
    "#import netgen.gui # disable netgen gui in favor of webgui\n",
    "from ngsolve import *\n",
    "from netgen.geom2d import SplineGeometry\n",
    "import numpy as np\n",
    "import math\n",
    "import time as timeit\n",
    "import matplotlib.pyplot as plt\n",
    "\n",
    "# domain geometry\n",
    "geo = SplineGeometry()\n",
    "length = 50\n",
    "height = 20\n",
    "geo.AddRectangle( (-3, 0), (length, height), bcs = [\"bottom\",\"right\",\"top\",\"left\"])"
   ]
  },
  {
   "cell_type": "code",
   "execution_count": 30,
   "metadata": {},
   "outputs": [],
   "source": [
    "def gpHDGSolver(h0=0.2, order = 2, wx=1, wy=0, xs=0, ys=1, eps = 0.2, Q=1, vis=True):\n",
    "    if vis:\n",
    "        from ngsolve.webgui import Draw\n",
    "    t0 = timeit.time()\n",
    "    mesh =  Mesh(geo.GenerateMesh(maxh=h0))\n",
    "    print(\"ElAPSED %.2e MESH\" %(timeit.time()-t0))\n",
    "\n",
    "    # local space V, global space M for velocity\n",
    "    V = L2(mesh, order=order)\n",
    "    # homogeneous DBC on left\n",
    "    # reasonable considering advection direction\n",
    "    M = FacetFESpace(mesh, order=order, dirichlet=\"left|top\")\n",
    "    # compound finite element space\n",
    "    fes = FESpace([V,M]) \n",
    "    gfu = GridFunction(fes)  # solution \n",
    "    uh,uhat = gfu.components\n",
    "    \n",
    "    (u,uhat), (v,vhat) = fes.TnT()  # symbolic object, test and trial ProxyFunctions\n",
    "    \n",
    "    # linear and bilinear forms to be specified\n",
    "    a = BilinearForm(fes, condense=True)\n",
    "    f1 = LinearForm(fes)\n",
    "    # Dirac Delta function approximated \n",
    "    # by multivariable Gaussian\n",
    "    f1 += v(xs,ys)\n",
    "    \n",
    "    ######## diffusion operator\n",
    "    h = specialcf.mesh_size        # the local mesh size coefficient function\n",
    "    n = specialcf.normal(mesh.dim) # the unit normal direction on edges\n",
    "    alpha = 4 #stabilization coef\n",
    "    \n",
    "    jmp_u = (u-uhat)\n",
    "    jmp_v = (v-vhat)\n",
    "    \n",
    "    eps_mat = CoefficientFunction((eps,0,0,1),dims=(2,2))\n",
    "    # volume integration\n",
    "    a += eps_mat*grad(u)*grad(v)*dx\n",
    "    # ATTENTION: element-boundary integration\n",
    "    a += (-eps_mat*grad(u)*n*jmp_v-eps_mat*grad(v)*n*jmp_u+alpha*order**2/h*eps_mat*n*n*jmp_u*jmp_v)*dx(element_boundary=True)\n",
    "            \n",
    "    ######## convection operator\n",
    "    # velocity field\n",
    "    w = CoefficientFunction((wx,wy))\n",
    "\n",
    "    uhatup = IfPos(w*n, u, uhat) # upwinding flux\n",
    "    conv = -u*w*grad(v)\n",
    "    # element-boundary term \n",
    "    # ATTENTION:: a simple HACK to deactivate vhat on Neumann bdry\n",
    "    neuflag = GridFunction(FacetFESpace(mesh))\n",
    "    neuflag.Set(1, definedon=mesh.Boundaries(\"right|bottom\"))\n",
    "    jmp_v0 = v-vhat*(1-neuflag) \n",
    "    conv_BND =  uhatup*w*n*jmp_v0\n",
    "\n",
    "    # convection integration\n",
    "    a += conv*dx + conv_BND*dx(element_boundary=True)\n",
    "\n",
    "    with TaskManager():\n",
    "        t0=timeit.time()\n",
    "        a.Assemble()\n",
    "        f1.Assemble() \n",
    "        rhs = gfu.vec.CreateVector()\n",
    "        rhs.data = Q*f1.vec\n",
    "        print(\"ElAPSED %.2e ASSEMBLE\" %(timeit.time()-t0))\n",
    "\n",
    "        # add Dirichlet BC -- no need here\n",
    "        #f.vec.data -= a.mat * gfu.vec\n",
    "        t0=timeit.time()\n",
    "        rhs.data += a.harmonic_extension_trans * rhs\n",
    "        inv = a.mat.Inverse(fes.FreeDofs(True), \"umfpack\")\n",
    "        gfu.vec.data += inv * rhs\n",
    "        gfu.vec.data += a.harmonic_extension * gfu.vec\n",
    "        gfu.vec.data += a.inner_solve * rhs\n",
    "        print(\"ElAPSED %.2e SOLVE\" %(timeit.time()-t0))\n",
    "        if vis:\n",
    "            Draw(gfu.components[0], mesh, \"uh\", min=0, max=1)#, deformation=True)\n",
    "    \n",
    "    return mesh, fes, a, rhs, gfu\n"
   ]
  },
  {
   "cell_type": "markdown",
   "metadata": {},
   "source": [
    "## Robustness with eps"
   ]
  },
  {
   "cell_type": "code",
   "execution_count": 33,
   "metadata": {},
   "outputs": [
    {
     "name": "stdout",
     "output_type": "stream",
     "text": [
      "ElAPSED 2.25e+00 MESH\n",
      "ElAPSED 2.78e-01 ASSEMBLE\n",
      "ElAPSED 1.45e+00 SOLVE\n"
     ]
    },
    {
     "data": {
      "application/vnd.jupyter.widget-view+json": {
       "model_id": "1c3391134f644e8b8f9ed920cc2e8aea",
       "version_major": 2,
       "version_minor": 0
      },
      "text/plain": [
       "NGSWebGuiWidget(value={'ngsolve_version': '6.2.2101-155-g55dd37409', 'mesh_dim': 2, 'order2d': 2, 'order3d': 2…"
      ]
     },
     "metadata": {},
     "output_type": "display_data"
    },
    {
     "data": {
      "text/plain": [
       "(<ngsolve.comp.Mesh at 0x7fcd9703c9e8>,\n",
       " <ngsolve.comp.FESpace at 0x7fcd979b8780>,\n",
       " <ngsolve.comp.BilinearForm at 0x7fcd978c0848>,\n",
       " basevector,\n",
       " <ngsolve.comp.GridFunction at 0x7fcd979b86d0>)"
      ]
     },
     "execution_count": 33,
     "metadata": {},
     "output_type": "execute_result"
    }
   ],
   "source": [
    "gpHDGSolver(h0=0.2, order = 2, eps=1, ys= 2, wx=1, wy=0, Q=2)"
   ]
  },
  {
   "cell_type": "markdown",
   "metadata": {},
   "source": [
    "## Comparison between numerical & GP of Stockie in Fig. 3.2"
   ]
  },
  {
   "cell_type": "code",
   "execution_count": 4,
   "metadata": {},
   "outputs": [
    {
     "name": "stdout",
     "output_type": "stream",
     "text": [
      "ElAPSED 2.28e+00 MESH\n",
      "ElAPSED 2.47e-01 ASSEMBLE\n",
      "ElAPSED 1.48e+00 SOLVE\n"
     ]
    },
    {
     "data": {
      "application/vnd.jupyter.widget-view+json": {
       "model_id": "3a00db806ce841c79ddc514ca86b70b5",
       "version_major": 2,
       "version_minor": 0
      },
      "text/plain": [
       "NGSWebGuiWidget(value={'ngsolve_version': '6.2.2101-155-g55dd37409', 'mesh_dim': 2, 'order2d': 2, 'order3d': 2…"
      ]
     },
     "metadata": {},
     "output_type": "display_data"
    }
   ],
   "source": [
    "H = 0\n",
    "mesh, _, _, _, gfu1 = gpHDGSolver(h0=0.2, order = 2, eps=1, ys= H, wx=1, wy=0, Q=1)"
   ]
  },
  {
   "cell_type": "markdown",
   "metadata": {},
   "source": [
    "### When H=0"
   ]
  },
  {
   "cell_type": "code",
   "execution_count": 5,
   "metadata": {},
   "outputs": [
    {
     "data": {
      "text/plain": [
       "<matplotlib.legend.Legend at 0x7fcd97a616d8>"
      ]
     },
     "execution_count": 5,
     "metadata": {},
     "output_type": "execute_result"
    },
    {
     "data": {
      "image/png": "[encoded data removed]",
      "text/plain": [
       "<Figure size 360x360 with 1 Axes>"
      ]
     },
     "metadata": {
      "needs_background": "light"
     },
     "output_type": "display_data"
    }
   ],
   "source": [
    "import scipy.io as spio\n",
    "mat = spio.loadmat('matlabCode_stockie/GPH0U1.mat',squeeze_me=True)\n",
    "anaSln = mat['cc']\n",
    "\n",
    "x = [0.01*i for i in range(length*10)]\n",
    "u_numerical1 = [gfu1.components[0](mesh(p, 0.0)) for p in x]\n",
    "\n",
    "fig, ax = plt.subplots(figsize=(5, 5))\n",
    "ax.set_title(\"Concentration at Ground Level\")\n",
    "ax.plot(x, u_numerical1, linewidth=1.5, label='HDG, H=0, vx_wind=1, eps=1')\n",
    "ax.plot(x, anaSln, linewidth=1.5, label='   GP, H=0, vx_wind=1, eps=1')\n",
    "ax.set_xlim([0,5])\n",
    "ax.set_ylim([0,2])\n",
    "ax.set_xlabel(\"x\")\n",
    "ax.set_ylabel(\"concentration\")\n",
    "\n",
    "ax.legend(loc='best')"
   ]
  },
  {
   "cell_type": "code",
   "execution_count": 6,
   "metadata": {},
   "outputs": [
    {
     "name": "stdout",
     "output_type": "stream",
     "text": [
      "ElAPSED 2.26e+00 MESH\n",
      "ElAPSED 2.38e-01 ASSEMBLE\n",
      "ElAPSED 1.47e+00 SOLVE\n"
     ]
    },
    {
     "data": {
      "application/vnd.jupyter.widget-view+json": {
       "model_id": "e6d4e4241a7940a181e831a645a9926d",
       "version_major": 2,
       "version_minor": 0
      },
      "text/plain": [
       "NGSWebGuiWidget(value={'ngsolve_version': '6.2.2101-155-g55dd37409', 'mesh_dim': 2, 'order2d': 2, 'order3d': 2…"
      ]
     },
     "metadata": {},
     "output_type": "display_data"
    }
   ],
   "source": [
    "H = 2\n",
    "mesh, _, _, _, gfu1 = gpHDGSolver(h0=0.2, order = 2, eps=1, ys= H, wx=1, wy=0, Q=1)"
   ]
  },
  {
   "cell_type": "markdown",
   "metadata": {},
   "source": [
    "### When H=2"
   ]
  },
  {
   "cell_type": "code",
   "execution_count": 7,
   "metadata": {},
   "outputs": [
    {
     "data": {
      "text/plain": [
       "<matplotlib.legend.Legend at 0x7fcd97965da0>"
      ]
     },
     "execution_count": 7,
     "metadata": {},
     "output_type": "execute_result"
    },
    {
     "data": {
      "image/png": "[encoded data removed]",
      "text/plain": [
       "<Figure size 360x360 with 1 Axes>"
      ]
     },
     "metadata": {
      "needs_background": "light"
     },
     "output_type": "display_data"
    }
   ],
   "source": [
    "mat = spio.loadmat('matlabCode_stockie/GPH2U1.mat',squeeze_me=True)\n",
    "anaSln = mat['cc']\n",
    "\n",
    "x = [0.01*i for i in range(length*10)]\n",
    "u_numerical1 = [gfu1.components[0](mesh(p, 0.0)) for p in x]\n",
    "\n",
    "fig, ax = plt.subplots(figsize=(5, 5))\n",
    "ax.set_title(\"Concentration at Ground Level\")\n",
    "ax.plot(x, u_numerical1, linewidth=1.5, label='HDG, H=2, vx_wind=1, eps=1')\n",
    "ax.plot(x, anaSln, linewidth=1.5, label='   GP, H=2, vx_wind=1, eps=1')\n",
    "ax.set_xlim([0,5])\n",
    "ax.set_ylim([0,0.3])\n",
    "ax.set_xlabel(\"x\")\n",
    "ax.set_ylabel(\"concentration\")\n",
    "\n",
    "ax.legend(loc='best')"
   ]
  },
  {
   "cell_type": "markdown",
   "metadata": {},
   "source": [
    "## Zero flux at ground level"
   ]
  },
  {
   "cell_type": "code",
   "execution_count": 8,
   "metadata": {},
   "outputs": [
    {
     "data": {
      "text/plain": [
       "<matplotlib.legend.Legend at 0x7fcd978e1d68>"
      ]
     },
     "execution_count": 8,
     "metadata": {},
     "output_type": "execute_result"
    },
    {
     "data": {
      "image/png": "[encoded data removed]",
      "text/plain": [
       "<Figure size 720x360 with 1 Axes>"
      ]
     },
     "metadata": {
      "needs_background": "light"
     },
     "output_type": "display_data"
    }
   ],
   "source": [
    "x = 5\n",
    "y = [0.01*i for i in range(height*100)]\n",
    "u_numerical = [gfu1.components[0](mesh(x, p)) for p in y]\n",
    "\n",
    "fig, ax = plt.subplots(figsize=(10,5))\n",
    "ax.set_title(\"Concentration at x=%.1e m\"%(x))\n",
    "ax.plot(y, u_numerical, linewidth=1.5, label='HDG, vx_wind=1, eps=1, (xs,ys)=(0,2)')\n",
    "ax.set_xlim([0,height])\n",
    "ax.set_xlabel(\"y coordinate\")\n",
    "ax.set_ylabel(\"concentration\")\n",
    "ax.legend()"
   ]
  },
  {
   "cell_type": "code",
   "execution_count": null,
   "metadata": {},
   "outputs": [],
   "source": []
  }
 ],
 "metadata": {
  "kernelspec": {
   "display_name": "Python 3",
   "language": "python",
   "name": "python3"
  },
  "language_info": {
   "codemirror_mode": {
    "name": "ipython",
    "version": 3
   },
   "file_extension": ".py",
   "mimetype": "text/x-python",
   "name": "python",
   "nbconvert_exporter": "python",
   "pygments_lexer": "ipython3",
   "version": "3.8.3"
  }
 },
 "nbformat": 4,
 "nbformat_minor": 2
}
